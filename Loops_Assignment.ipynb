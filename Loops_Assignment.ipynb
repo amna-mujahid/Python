{
  "nbformat": 4,
  "nbformat_minor": 0,
  "metadata": {
    "colab": {
      "provenance": []
    },
    "kernelspec": {
      "name": "python3",
      "display_name": "Python 3"
    },
    "language_info": {
      "name": "python"
    }
  },
  "cells": [
    {
      "cell_type": "markdown",
      "source": [
        "# **Loops**\n",
        "**1) Program to print the numbers from 1 to 10 using a for loop**"
      ],
      "metadata": {
        "id": "EPy3IEYuWhKI"
      }
    },
    {
      "cell_type": "code",
      "execution_count": 50,
      "metadata": {
        "id": "Uwwez_UHpmks",
        "colab": {
          "base_uri": "https://localhost:8080/"
        },
        "outputId": "603d0a97-32e2-4f3c-b9c9-2b0e374ce10d"
      },
      "outputs": [
        {
          "output_type": "stream",
          "name": "stdout",
          "text": [
            "1\n",
            "2\n",
            "3\n",
            "4\n",
            "5\n",
            "6\n",
            "7\n",
            "8\n",
            "9\n",
            "10\n"
          ]
        }
      ],
      "source": [
        "for i in range(1,11):\n",
        "  print(i)\n",
        "\n"
      ]
    },
    {
      "cell_type": "markdown",
      "source": [
        "**2) Write a program to print the numbers from 20 to 1 using a while loop**"
      ],
      "metadata": {
        "id": "4a3n4f5SYIsW"
      }
    },
    {
      "cell_type": "code",
      "source": [
        "i=20\n",
        "while i>0:\n",
        "  print(i)\n",
        "  i=i-1\n",
        "\n",
        "\n"
      ],
      "metadata": {
        "id": "W4lT4JFCsBT0",
        "colab": {
          "base_uri": "https://localhost:8080/"
        },
        "outputId": "b31fe862-8680-4055-8340-bbf0facf1f00"
      },
      "execution_count": 51,
      "outputs": [
        {
          "output_type": "stream",
          "name": "stdout",
          "text": [
            "20\n",
            "19\n",
            "18\n",
            "17\n",
            "16\n",
            "15\n",
            "14\n",
            "13\n",
            "12\n",
            "11\n",
            "10\n",
            "9\n",
            "8\n",
            "7\n",
            "6\n",
            "5\n",
            "4\n",
            "3\n",
            "2\n",
            "1\n"
          ]
        }
      ]
    },
    {
      "cell_type": "markdown",
      "source": [
        "**3) Write a program to print even numbers from 1 to 10**"
      ],
      "metadata": {
        "id": "Fx9DEtR_ZlvI"
      }
    },
    {
      "cell_type": "code",
      "source": [
        "for i in range(1,11):\n",
        "  if i%2==0:\n",
        "    print(i)\n"
      ],
      "metadata": {
        "id": "tcPlXf9GtNvR",
        "colab": {
          "base_uri": "https://localhost:8080/"
        },
        "outputId": "3d47b4b5-d39f-4fba-9a2b-260948df1cad"
      },
      "execution_count": 52,
      "outputs": [
        {
          "output_type": "stream",
          "name": "stdout",
          "text": [
            "2\n",
            "4\n",
            "6\n",
            "8\n",
            "10\n"
          ]
        }
      ]
    },
    {
      "cell_type": "markdown",
      "source": [
        "**4) Write a program that prompts the user to enter a number n and prints all the numbers from 1 to n**"
      ],
      "metadata": {
        "id": "wtf0b40TZ9r7"
      }
    },
    {
      "cell_type": "code",
      "source": [
        "n=int(input(\"Enter a Number: \"))\n",
        "for i in range(1,n+1):\n",
        "  print(i)\n"
      ],
      "metadata": {
        "id": "QONNhiqSw2mh",
        "colab": {
          "base_uri": "https://localhost:8080/"
        },
        "outputId": "189e490f-e9bd-4446-b26d-e4421fcef7b2"
      },
      "execution_count": 53,
      "outputs": [
        {
          "output_type": "stream",
          "name": "stdout",
          "text": [
            "Enter a Number: 5\n",
            "1\n",
            "2\n",
            "3\n",
            "4\n",
            "5\n"
          ]
        }
      ]
    },
    {
      "cell_type": "markdown",
      "source": [
        "**5) Write a program that prompts the user to enter a number n, and then prints all the odd numbers between 1 and n**"
      ],
      "metadata": {
        "id": "C9WBma7WaZCs"
      }
    },
    {
      "cell_type": "code",
      "source": [
        "n=int(input(\"Enter a Number: \"))\n",
        "for i in range(1,n+1):\n",
        "  if i%2==1:\n",
        "    print(i)"
      ],
      "metadata": {
        "id": "xjmt2YoqxV6K",
        "colab": {
          "base_uri": "https://localhost:8080/"
        },
        "outputId": "69d4e6d7-0e3e-4f57-e420-55004a5e15c3"
      },
      "execution_count": 54,
      "outputs": [
        {
          "output_type": "stream",
          "name": "stdout",
          "text": [
            "Enter a Number: 10\n",
            "1\n",
            "3\n",
            "5\n",
            "7\n",
            "9\n"
          ]
        }
      ]
    },
    {
      "cell_type": "markdown",
      "source": [
        "**6) Write a program that prints Happy Birthday five times on screen**"
      ],
      "metadata": {
        "id": "ykBV2T_ZanTS"
      }
    },
    {
      "cell_type": "code",
      "source": [
        "msg=\"Happy Birthday\"\n",
        "for i in range(5):\n",
        "  print(msg)"
      ],
      "metadata": {
        "id": "RpJEK_c0xusc",
        "colab": {
          "base_uri": "https://localhost:8080/"
        },
        "outputId": "ab905ac7-bb95-459b-eed1-62acca5c5ba5"
      },
      "execution_count": 55,
      "outputs": [
        {
          "output_type": "stream",
          "name": "stdout",
          "text": [
            "Happy Birthday\n",
            "Happy Birthday\n",
            "Happy Birthday\n",
            "Happy Birthday\n",
            "Happy Birthday\n"
          ]
        }
      ]
    },
    {
      "cell_type": "markdown",
      "source": [
        "**7) Write a program that takes a number n as input from the user and generates the first n terms of the series formed by squaring the natural numbers**"
      ],
      "metadata": {
        "id": "5gjthHkpaz65"
      }
    },
    {
      "cell_type": "code",
      "source": [
        "n=int(input(\"Enter a Number: \"))\n",
        "print(f\"The first {n} terms of series are: \")\n",
        "for i in range(1,n+1):\n",
        "  print(i*i)"
      ],
      "metadata": {
        "id": "VcRk3vMuyQGn",
        "colab": {
          "base_uri": "https://localhost:8080/"
        },
        "outputId": "098a9019-8711-4f3b-fabb-7d552ee7965e"
      },
      "execution_count": 56,
      "outputs": [
        {
          "output_type": "stream",
          "name": "stdout",
          "text": [
            "Enter a Number: 5\n",
            "The first 5 terms of series are: \n",
            "1\n",
            "4\n",
            "9\n",
            "16\n",
            "25\n"
          ]
        }
      ]
    },
    {
      "cell_type": "markdown",
      "source": [
        "**8) Write a program that prompts the user to input a number and prints its multiplication table**"
      ],
      "metadata": {
        "id": "Pp4m-QjabFIH"
      }
    },
    {
      "cell_type": "code",
      "source": [
        "n=int(input(\"Enter a Number: \"))\n",
        "print(f\"Multiplication Table of {n} is: \")\n",
        "for i in range(1,11):\n",
        "  print(f\"{n} * {i} = {n*i}\")"
      ],
      "metadata": {
        "id": "ZSgO5ACazK5S",
        "colab": {
          "base_uri": "https://localhost:8080/"
        },
        "outputId": "a704c96d-712a-4e40-bd97-a8072daa434d"
      },
      "execution_count": 57,
      "outputs": [
        {
          "output_type": "stream",
          "name": "stdout",
          "text": [
            "Enter a Number: 6\n",
            "Multiplication Table of 6 is: \n",
            "6 * 1 = 6\n",
            "6 * 2 = 12\n",
            "6 * 3 = 18\n",
            "6 * 4 = 24\n",
            "6 * 5 = 30\n",
            "6 * 6 = 36\n",
            "6 * 7 = 42\n",
            "6 * 8 = 48\n",
            "6 * 9 = 54\n",
            "6 * 10 = 60\n"
          ]
        }
      ]
    },
    {
      "cell_type": "markdown",
      "source": [
        "**9) Write a Python program to print the first 8 terms of an arithmetic progression starting with 3 and having a common difference of 4**"
      ],
      "metadata": {
        "id": "sCyNekwubTi6"
      }
    },
    {
      "cell_type": "code",
      "source": [
        "a=3\n",
        "for i in range(8):\n",
        "  print(a)\n",
        "  a=a+4"
      ],
      "metadata": {
        "id": "2rLOPqGe0Agv",
        "colab": {
          "base_uri": "https://localhost:8080/"
        },
        "outputId": "40da670f-cf50-4c7a-cdfa-af6decdc3f6f"
      },
      "execution_count": 58,
      "outputs": [
        {
          "output_type": "stream",
          "name": "stdout",
          "text": [
            "3\n",
            "7\n",
            "11\n",
            "15\n",
            "19\n",
            "23\n",
            "27\n",
            "31\n"
          ]
        }
      ]
    },
    {
      "cell_type": "markdown",
      "source": [
        "**10) Write a Python program to print the first 6 terms of a geometric sequence starting with 2 and having a common ratio of 3**"
      ],
      "metadata": {
        "id": "x6KVyk2rb_2u"
      }
    },
    {
      "cell_type": "code",
      "source": [
        "a=2\n",
        "for i in range(6):\n",
        "  print(a)\n",
        "  a=a*3\n"
      ],
      "metadata": {
        "id": "S5CoTw6O2VUB",
        "colab": {
          "base_uri": "https://localhost:8080/"
        },
        "outputId": "785cb1c7-4186-4bcf-a6d4-74b5f525e09f"
      },
      "execution_count": 59,
      "outputs": [
        {
          "output_type": "stream",
          "name": "stdout",
          "text": [
            "2\n",
            "6\n",
            "18\n",
            "54\n",
            "162\n",
            "486\n"
          ]
        }
      ]
    },
    {
      "cell_type": "markdown",
      "source": [
        "**11) Write a program that asks the user for a positive integer value. The program should calculate the sum of all the integers from 1 up to the number entered**"
      ],
      "metadata": {
        "id": "cuONOR4dcNaD"
      }
    },
    {
      "cell_type": "code",
      "source": [
        "sum=0\n",
        "n=int(input(\"Enter positive integer: \"))\n",
        "for i in range(1, n+1):\n",
        "  sum=sum+i\n",
        "print(f\"sum of numbers from 1 to {n} is: \",sum)"
      ],
      "metadata": {
        "id": "AVIMe1sV3bXW",
        "colab": {
          "base_uri": "https://localhost:8080/"
        },
        "outputId": "1b890c43-459e-42c1-c1a6-5e22c3bc1b35"
      },
      "execution_count": 60,
      "outputs": [
        {
          "output_type": "stream",
          "name": "stdout",
          "text": [
            "Enter positive integer: 4\n",
            "sum of numbers from 1 to 4 is:  10\n"
          ]
        }
      ]
    },
    {
      "cell_type": "markdown",
      "source": [
        "**12) write a program that takes a positive Integer N as input and calculates the sum of the reciprocalls of all numbers from 1 up to N**"
      ],
      "metadata": {
        "id": "yCaANUpfdf_X"
      }
    },
    {
      "cell_type": "code",
      "source": [
        "rsum=0\n",
        "n=int(input(\"Enter Positive integer: \"))\n",
        "for i in range(1,n+1):\n",
        "  rsum=rsum+(1/i)\n",
        "print(f\"sum of reciprocal numbers from 1 to {n} is: \",round(rsum,2))\n"
      ],
      "metadata": {
        "id": "Q0L9544m6FJK",
        "colab": {
          "base_uri": "https://localhost:8080/"
        },
        "outputId": "67f0d0e0-2730-4702-9eed-0184bfb96e24"
      },
      "execution_count": 64,
      "outputs": [
        {
          "output_type": "stream",
          "name": "stdout",
          "text": [
            "Enter Positive integer: 4\n",
            "sum of reciprocal numbers from 1 to 4 is:  2.08\n"
          ]
        }
      ]
    },
    {
      "cell_type": "markdown",
      "source": [
        "**13) Write a program that prompts the user to enter a number and repeats this process 5 times. The program should accumulate the numbers entered and then display the final running total**"
      ],
      "metadata": {
        "id": "jTLBtcXld5Iv"
      }
    },
    {
      "cell_type": "code",
      "source": [
        "sum=0\n",
        "for i in range(5):\n",
        "  n=int(input(f\"Enter a Number {i+1}: \"))\n",
        "  sum=sum+n\n",
        "print(f\"sum of numbers is {sum}\")\n"
      ],
      "metadata": {
        "id": "Wx3ztP2o8B78",
        "colab": {
          "base_uri": "https://localhost:8080/"
        },
        "outputId": "174bc924-fc44-4127-d86a-d3aa9acbb51f"
      },
      "execution_count": 63,
      "outputs": [
        {
          "output_type": "stream",
          "name": "stdout",
          "text": [
            "Enter a Number 1: 5\n",
            "Enter a Number 2: 5\n",
            "Enter a Number 3: 4\n",
            "Enter a Number 4: 6\n",
            "Enter a Number 5: 8\n",
            "sum of numbers is 28\n"
          ]
        }
      ]
    },
    {
      "cell_type": "markdown",
      "source": [
        "**14) Write a program that prompts the user to enter a positive integer and calculates its factorial**"
      ],
      "metadata": {
        "id": "i0w81O2Je8R3"
      }
    },
    {
      "cell_type": "code",
      "source": [
        "fac=1\n",
        "n=int(input(\"Enter a Number: \"))\n",
        "if n>0:\n",
        "  for i in range(1,n+1):\n",
        "    fac=fac*i\n",
        "  print(f\"The Factorial of {n} is: {fac}\")\n",
        "elif n==0:\n",
        "  print(\"Factorial of 0 is 1\")\n",
        "elif n<0:\n",
        "  print(\"Factorial of negative number does'nt exist\")\n",
        "\n"
      ],
      "metadata": {
        "id": "ykOWtLF1-QUT",
        "colab": {
          "base_uri": "https://localhost:8080/"
        },
        "outputId": "1e92cc3c-43e4-4639-bddc-82db4480b855"
      },
      "execution_count": 65,
      "outputs": [
        {
          "output_type": "stream",
          "name": "stdout",
          "text": [
            "Enter a Number: 5\n",
            "The Factorial of 5 is: 120\n"
          ]
        }
      ]
    },
    {
      "cell_type": "markdown",
      "source": [
        "**15) Write a Python program that prompts the user to enter a base number and an exponent, and then calculates the power of the base to the exponent**"
      ],
      "metadata": {
        "id": "lMmolCgYgsed"
      }
    },
    {
      "cell_type": "code",
      "source": [
        "base=int(input(\"enter a base number: \"))\n",
        "exp=int(input(\"enter an exponent: \"))\n",
        "res=1\n",
        "if exp<0:\n",
        "  for i in range(-exp):\n",
        "    res =res*(1/base)\n",
        "elif exp>0:\n",
        "  for i in range(exp):\n",
        "    res=res*base\n",
        "print(res)"
      ],
      "metadata": {
        "id": "JirANkXr_nAN",
        "colab": {
          "base_uri": "https://localhost:8080/"
        },
        "outputId": "88ca8374-c53e-4e97-cd67-5074f5871c7a"
      },
      "execution_count": 66,
      "outputs": [
        {
          "output_type": "stream",
          "name": "stdout",
          "text": [
            "enter a base number: 2\n",
            "enter an exponent: -2\n",
            "0.25\n"
          ]
        }
      ]
    }
  ]
}