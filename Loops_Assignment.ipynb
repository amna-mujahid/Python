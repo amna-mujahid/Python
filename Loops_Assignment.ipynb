{
  "nbformat": 4,
  "nbformat_minor": 0,
  "metadata": {
    "colab": {
      "provenance": []
    },
    "kernelspec": {
      "name": "python3",
      "display_name": "Python 3"
    },
    "language_info": {
      "name": "python"
    }
  },
  "cells": [
    {
      "cell_type": "markdown",
      "source": [
        "# **Loops**\n",
        "**1) Program to print the numbers from 1 to 10 using a for loop**"
      ],
      "metadata": {
        "id": "EPy3IEYuWhKI"
      }
    },
    {
      "cell_type": "code",
      "execution_count": null,
      "metadata": {
        "id": "Uwwez_UHpmks"
      },
      "outputs": [],
      "source": [
        "for i in range(1,11):\n",
        "  print(i)\n",
        "\n"
      ]
    },
    {
      "cell_type": "markdown",
      "source": [
        "**2) Write a program to print the numbers from 20 to 1 using a while loop**"
      ],
      "metadata": {
        "id": "4a3n4f5SYIsW"
      }
    },
    {
      "cell_type": "code",
      "source": [
        "i=20\n",
        "while i>0:\n",
        "  print(i)\n",
        "  i=i-1\n",
        "\n",
        "\n"
      ],
      "metadata": {
        "id": "W4lT4JFCsBT0"
      },
      "execution_count": null,
      "outputs": []
    },
    {
      "cell_type": "markdown",
      "source": [
        "**3) Write a program to print even numbers from 1 to 10**"
      ],
      "metadata": {
        "id": "Fx9DEtR_ZlvI"
      }
    },
    {
      "cell_type": "code",
      "source": [
        "for i in range(1,11):\n",
        "  if i%2==0:\n",
        "    print(i)\n"
      ],
      "metadata": {
        "id": "tcPlXf9GtNvR"
      },
      "execution_count": null,
      "outputs": []
    },
    {
      "cell_type": "markdown",
      "source": [
        "**4) Write a program that prompts the user to enter a number n and prints all the numbers from 1 to n**"
      ],
      "metadata": {
        "id": "wtf0b40TZ9r7"
      }
    },
    {
      "cell_type": "code",
      "source": [
        "n=int(input(\"Enter a Number: \"))\n",
        "for i in range(1,n+1):\n",
        "  print(i)\n"
      ],
      "metadata": {
        "id": "QONNhiqSw2mh"
      },
      "execution_count": null,
      "outputs": []
    },
    {
      "cell_type": "markdown",
      "source": [
        "**5) Write a program that prompts the user to enter a number n, and then prints all the odd numbers between 1 and n**"
      ],
      "metadata": {
        "id": "C9WBma7WaZCs"
      }
    },
    {
      "cell_type": "code",
      "source": [
        "n=int(input(\"Enter a Number: \"))\n",
        "for i in range(1,n+1):\n",
        "  if i%2==1:\n",
        "    print(i)"
      ],
      "metadata": {
        "id": "xjmt2YoqxV6K"
      },
      "execution_count": null,
      "outputs": []
    },
    {
      "cell_type": "markdown",
      "source": [
        "**6) Write a program that prints Happy Birthday five times on screen**"
      ],
      "metadata": {
        "id": "ykBV2T_ZanTS"
      }
    },
    {
      "cell_type": "code",
      "source": [
        "msg=\"Happy Birthday\"\n",
        "for i in range(5):\n",
        "  print(msg)"
      ],
      "metadata": {
        "id": "RpJEK_c0xusc"
      },
      "execution_count": null,
      "outputs": []
    },
    {
      "cell_type": "markdown",
      "source": [
        "**7) Write a program that takes a number n as input from the user and generates the first n terms of the series formed by squaring the natural numbers**"
      ],
      "metadata": {
        "id": "5gjthHkpaz65"
      }
    },
    {
      "cell_type": "code",
      "source": [
        "n=int(input(\"Enter a Number: \"))\n",
        "print(f\"The first {n} terms of series are: \")\n",
        "for i in range(1,n+1):\n",
        "  print(i*i)"
      ],
      "metadata": {
        "id": "VcRk3vMuyQGn"
      },
      "execution_count": null,
      "outputs": []
    },
    {
      "cell_type": "markdown",
      "source": [
        "**8) Write a program that prompts the user to input a number and prints its multiplication table**"
      ],
      "metadata": {
        "id": "Pp4m-QjabFIH"
      }
    },
    {
      "cell_type": "code",
      "source": [
        "n=int(input(\"Enter a Number: \"))\n",
        "print(f\"Multiplication Table of {n} is: \")\n",
        "for i in range(1,11):\n",
        "  print(f\"{n} * {i} = {n*i}\")"
      ],
      "metadata": {
        "id": "ZSgO5ACazK5S"
      },
      "execution_count": null,
      "outputs": []
    },
    {
      "cell_type": "markdown",
      "source": [
        "**9) Write a Python program to print the first 8 terms of an arithmetic progression starting with 3 and having a common difference of 4**"
      ],
      "metadata": {
        "id": "sCyNekwubTi6"
      }
    },
    {
      "cell_type": "code",
      "source": [
        "a=3\n",
        "for i in range(8):\n",
        "  print(a)\n",
        "  a=a+4"
      ],
      "metadata": {
        "id": "2rLOPqGe0Agv"
      },
      "execution_count": null,
      "outputs": []
    },
    {
      "cell_type": "markdown",
      "source": [
        "**10) Write a Python program to print the first 6 terms of a geometric sequence starting with 2 and having a common ratio of 3**"
      ],
      "metadata": {
        "id": "x6KVyk2rb_2u"
      }
    },
    {
      "cell_type": "code",
      "source": [
        "a=2\n",
        "for i in range(6):\n",
        "  print(a)\n",
        "  a=a*3\n"
      ],
      "metadata": {
        "id": "S5CoTw6O2VUB"
      },
      "execution_count": null,
      "outputs": []
    },
    {
      "cell_type": "markdown",
      "source": [
        "**11) Write a program that asks the user for a positive integer value. The program should calculate the sum of all the integers from 1 up to the number entered**"
      ],
      "metadata": {
        "id": "cuONOR4dcNaD"
      }
    },
    {
      "cell_type": "code",
      "source": [
        "sum=0\n",
        "n=int(input(\"Enter positive integer: \"))\n",
        "for i in range(1, n+1):\n",
        "  sum=sum+i\n",
        "print(f\"sum of numbers from 1 to {n} is: \",sum)"
      ],
      "metadata": {
        "id": "AVIMe1sV3bXW"
      },
      "execution_count": null,
      "outputs": []
    },
    {
      "cell_type": "markdown",
      "source": [
        "**12) write a program that takes a positive Integer N as input and calculates the sum of the reciprocalls of all numbers from 1 up to N**"
      ],
      "metadata": {
        "id": "yCaANUpfdf_X"
      }
    },
    {
      "cell_type": "code",
      "source": [
        "rsum=0\n",
        "n=int(input(\"Enter Positive integer: \"))\n",
        "for i in range(1,n+1):\n",
        "  rsum=rsum+(1/i)\n",
        "print(f\"sum of reciprocal numbers from 1 to {n} is: \",round(rsum,2))\n"
      ],
      "metadata": {
        "id": "Q0L9544m6FJK"
      },
      "execution_count": null,
      "outputs": []
    },
    {
      "cell_type": "markdown",
      "source": [
        "**13) Write a program that prompts the user to enter a number and repeats this process 5 times. The program should accumulate the numbers entered and then display the final running total**"
      ],
      "metadata": {
        "id": "jTLBtcXld5Iv"
      }
    },
    {
      "cell_type": "code",
      "source": [
        "sum=0\n",
        "for i in range(5):\n",
        "  n=int(input(f\"Enter a Number {i+1}: \"))\n",
        "  sum=sum+n\n",
        "print(f\"sum of numbers is {sum}\")\n"
      ],
      "metadata": {
        "id": "Wx3ztP2o8B78"
      },
      "execution_count": null,
      "outputs": []
    },
    {
      "cell_type": "markdown",
      "source": [
        "**14) Write a program that prompts the user to enter a positive integer and calculates its factorial**"
      ],
      "metadata": {
        "id": "i0w81O2Je8R3"
      }
    },
    {
      "cell_type": "code",
      "source": [
        "fac=1\n",
        "n=int(input(\"Enter a Number: \"))\n",
        "if n>0:\n",
        "  for i in range(1,n+1):\n",
        "    fac=fac*i\n",
        "  print(f\"The Factorial of {n} is: {fac}\")\n",
        "elif n==0:\n",
        "  print(\"Factorial of 0 is 1\")\n",
        "elif n<0:\n",
        "  print(\"Factorial of negative number does'nt exist\")\n",
        "\n"
      ],
      "metadata": {
        "id": "ykOWtLF1-QUT"
      },
      "execution_count": null,
      "outputs": []
    },
    {
      "cell_type": "markdown",
      "source": [
        "**15) Write a Python program that prompts the user to enter a base number and an exponent, and then calculates the power of the base to the exponent**"
      ],
      "metadata": {
        "id": "lMmolCgYgsed"
      }
    },
    {
      "cell_type": "code",
      "source": [
        "base=int(input(\"enter a base number: \"))\n",
        "exp=int(input(\"enter an exponent: \"))\n",
        "res=1\n",
        "if exp<0:\n",
        "  for i in range(-exp):\n",
        "    res =res*(1/base)\n",
        "elif exp>0:\n",
        "  for i in range(exp):\n",
        "    res=res*base\n",
        "print(res)"
      ],
      "metadata": {
        "id": "JirANkXr_nAN"
      },
      "execution_count": null,
      "outputs": []
    }
  ]
}