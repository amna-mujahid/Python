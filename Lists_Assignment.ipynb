{
  "nbformat": 4,
  "nbformat_minor": 0,
  "metadata": {
    "colab": {
      "provenance": []
    },
    "kernelspec": {
      "name": "python3",
      "display_name": "Python 3"
    },
    "language_info": {
      "name": "python"
    }
  },
  "cells": [
    {
      "cell_type": "markdown",
      "source": [
        "# **Lists**\n",
        "**1) Write a program that accept list from user and print alternate elements**"
      ],
      "metadata": {
        "id": "KpCXn_rULw5U"
      }
    },
    {
      "cell_type": "code",
      "execution_count": 28,
      "metadata": {
        "id": "4eFmfs0DrgKo",
        "colab": {
          "base_uri": "https://localhost:8080/"
        },
        "outputId": "ed3bb778-3858-4692-ef3f-81e08aa38463"
      },
      "outputs": [
        {
          "output_type": "stream",
          "name": "stdout",
          "text": [
            "how many number in list do you want: 5\n",
            "enter element 1 of list: 1\n",
            "enter element 2 of list: 2\n",
            "enter element 3 of list: 3\n",
            "enter element 4 of list: 4\n",
            "enter element 5 of list: 5\n",
            "[1, 2, 3, 4, 5]\n",
            "[1, 3, 5]\n"
          ]
        }
      ],
      "source": [
        "n=int(input(\"how many number in list do you want: \"))\n",
        "my_lis=[]\n",
        "for i in range(n):\n",
        "  lst=int(input(f\"enter element {i+1} of list: \"))\n",
        "  my_lis.append(lst)\n",
        "print(my_lis)\n",
        "alt_lis=my_lis[0:n:2]\n",
        "print(alt_lis)"
      ]
    },
    {
      "cell_type": "markdown",
      "source": [
        "**2) Program that reverse the elements of list without using reverse() method**\n"
      ],
      "metadata": {
        "id": "WH1g-TyCMuDP"
      }
    },
    {
      "cell_type": "code",
      "source": [
        "n=int(input(\"how many number in list do you want: \"))\n",
        "item=[]\n",
        "for i in range(n):\n",
        "  lst=int(input(f\"enter element {i+1} of list: \"))\n",
        "  item.append(lst)\n",
        "print(item[::-1])\n"
      ],
      "metadata": {
        "id": "9k3R0gpdKE1H",
        "colab": {
          "base_uri": "https://localhost:8080/"
        },
        "outputId": "9ff094f9-1174-489d-db71-bb598256816a"
      },
      "execution_count": 29,
      "outputs": [
        {
          "output_type": "stream",
          "name": "stdout",
          "text": [
            "how many number in list do you want: 5\n",
            "enter element 1 of list: 1\n",
            "enter element 2 of list: 2\n",
            "enter element 3 of list: 3\n",
            "enter element 4 of list: 4\n",
            "enter element 5 of list: 5\n",
            "[5, 4, 3, 2, 1]\n"
          ]
        }
      ]
    },
    {
      "cell_type": "markdown",
      "source": [
        "**3) Program that display the largest number of list without using max() function**"
      ],
      "metadata": {
        "id": "NMTqS_kxN1VN"
      }
    },
    {
      "cell_type": "code",
      "source": [
        "#Solution No.1\n",
        "n=int(input(\"how many number in list do you want: \"))\n",
        "item=[]\n",
        "for i in range(n):\n",
        "  lst=int(input(f\"input enter element {i+1} of list: \"))\n",
        "  item.append(lst)\n",
        "print(item)\n",
        "item.sort()\n",
        "print(f\"largest number is: {item[-1]}\")\n"
      ],
      "metadata": {
        "id": "fmguZLMlWZSF",
        "colab": {
          "base_uri": "https://localhost:8080/"
        },
        "outputId": "6cd408dc-838a-4c5e-ac88-b64988a90e8a"
      },
      "execution_count": 31,
      "outputs": [
        {
          "output_type": "stream",
          "name": "stdout",
          "text": [
            "how many number in list do you want: 3\n",
            "input enter element 1 of list: 34\n",
            "input enter element 2 of list: 12\n",
            "input enter element 3 of list: 3\n",
            "[34, 12, 3]\n",
            "largest number is: 34\n"
          ]
        }
      ]
    },
    {
      "cell_type": "code",
      "source": [
        "#Solution No.2\n",
        "n=int(input(\"how many number list do you want: \"))\n",
        "item=[]\n",
        "for i in range(n):\n",
        "  lst=int(input(\"enter elements of list: \"))\n",
        "  item.append(lst)\n",
        "print(item)\n",
        "largest=item[0]\n",
        "for i in range(n):\n",
        "  if item[i]>largest:\n",
        "    largest=item[i]\n",
        "\n",
        "print(f\"Largest number is: {largest}\")"
      ],
      "metadata": {
        "id": "2M8tQPhetuEm",
        "colab": {
          "base_uri": "https://localhost:8080/"
        },
        "outputId": "3568ba61-e8cc-42a9-b544-5f3f2970e595"
      },
      "execution_count": 32,
      "outputs": [
        {
          "output_type": "stream",
          "name": "stdout",
          "text": [
            "how many number list do you want: 4\n",
            "enter elements of list: 65\n",
            "enter elements of list: 23\n",
            "enter elements of list: 50\n",
            "enter elements of list: 87\n",
            "[65, 23, 50, 87]\n",
            "Largest number is: 87\n"
          ]
        }
      ]
    },
    {
      "cell_type": "markdown",
      "source": [
        "**4) Program that rotates the element of the list**"
      ],
      "metadata": {
        "id": "pkGsDrQMxtQu"
      }
    },
    {
      "cell_type": "code",
      "source": [
        "lst=[1,2,3,4,5,6,7,8]\n",
        "new_lst=[]\n",
        "for i in range(len(lst)):\n",
        "  new_lst.append(lst[-1+i])\n",
        "print(new_lst)"
      ],
      "metadata": {
        "id": "qedIX4xLzmUR",
        "colab": {
          "base_uri": "https://localhost:8080/"
        },
        "outputId": "1e29b663-1c6c-44f0-e63d-1919b1765623"
      },
      "execution_count": 33,
      "outputs": [
        {
          "output_type": "stream",
          "name": "stdout",
          "text": [
            "[8, 1, 2, 3, 4, 5, 6, 7]\n"
          ]
        }
      ]
    },
    {
      "cell_type": "markdown",
      "source": [
        "**5) Program that input a string and ask user to delete a given word**"
      ],
      "metadata": {
        "id": "VpZFaITf0ayI"
      }
    },
    {
      "cell_type": "code",
      "source": [
        "string=input(\"Enter a string: \")\n",
        "wrd=input(\"Enter a word to delete: \")\n",
        "if wrd in string:\n",
        "  new_string=string.split()\n",
        "  new_string.remove(wrd)\n",
        "  out=\" \".join(new_string)\n",
        "  print(out)\n",
        "else:\n",
        "  print(\"word not present\")\n",
        "  print(string)"
      ],
      "metadata": {
        "id": "kpuLpleL0aGX",
        "colab": {
          "base_uri": "https://localhost:8080/"
        },
        "outputId": "8b1b3e31-f4da-494f-8deb-bf54fe743fbe"
      },
      "execution_count": 34,
      "outputs": [
        {
          "output_type": "stream",
          "name": "stdout",
          "text": [
            "Enter a string: I like programming class\n",
            "Enter a word to delete: class\n",
            "I like programming\n"
          ]
        }
      ]
    },
    {
      "cell_type": "markdown",
      "source": [
        "**6) Program that take date in mm/dd/yy format and display it in month date, year format**"
      ],
      "metadata": {
        "id": "y_pf5SA74Q56"
      }
    },
    {
      "cell_type": "code",
      "source": [
        "date=input(\"Enter date in mm/dd/yy format: \")\n",
        "months=[\"January\",\"Feburary\",\"March\",\"April\",\"May\",\"June\",\"July\",\"August\",\"September\",\"October\",\"November\",\"December\"]\n",
        "split_date=date.split(\"/\")\n",
        "v_month=months[(int(split_date[0]))-1]\n",
        "print(f\"{v_month} {split_date[1]}, {split_date[2]}\")"
      ],
      "metadata": {
        "id": "vwF2R8Tm4obL",
        "colab": {
          "base_uri": "https://localhost:8080/"
        },
        "outputId": "f8b4ad5c-5570-4df3-ed48-633fbe99f662"
      },
      "execution_count": 35,
      "outputs": [
        {
          "output_type": "stream",
          "name": "stdout",
          "text": [
            "Enter date in mm/dd/yy format: 12/15/2023\n",
            "December 15, 2023\n"
          ]
        }
      ]
    },
    {
      "cell_type": "markdown",
      "source": [
        "**7) Program that take a string and create a new string after converting 1st character of every word capitalized**"
      ],
      "metadata": {
        "id": "llHjgdxwycBU"
      }
    },
    {
      "cell_type": "code",
      "source": [
        "#Solution No.1\n",
        "strng=input(\"enter a string: \")\n",
        "new_strng=strng.split()\n",
        "lst=[]\n",
        "for words in new_strng:\n",
        "  lst.append(words.capitalize())\n",
        "new_strng=\" \".join(lst)\n",
        "print(new_strng)\n",
        "\n"
      ],
      "metadata": {
        "id": "XOhYwJWp9Xn3",
        "colab": {
          "base_uri": "https://localhost:8080/"
        },
        "outputId": "026acf4c-8728-4951-a3a2-4e609ccdb5a5"
      },
      "execution_count": 36,
      "outputs": [
        {
          "output_type": "stream",
          "name": "stdout",
          "text": [
            "enter a string: this is my assignment\n",
            "This Is My Assignment\n"
          ]
        }
      ]
    },
    {
      "cell_type": "code",
      "source": [
        "#Solution No.2\n",
        "strng=input(\"enter a string: \")\n",
        "print(strng.title())"
      ],
      "metadata": {
        "id": "xgu5BLsO17-u",
        "colab": {
          "base_uri": "https://localhost:8080/"
        },
        "outputId": "3c037416-b0ae-4a87-9bcd-02b68e55b1f8"
      },
      "execution_count": 37,
      "outputs": [
        {
          "output_type": "stream",
          "name": "stdout",
          "text": [
            "enter a string: my assignment\n",
            "My Assignment\n"
          ]
        }
      ]
    },
    {
      "cell_type": "markdown",
      "source": [
        "**8) Program that find sum of each row of matrix**"
      ],
      "metadata": {
        "id": "bJqYVjT1y3As"
      }
    },
    {
      "cell_type": "code",
      "source": [
        "matrix=[[10, 12, 13], [0, 5, 6], [10, 12, 13], [0, 5, 6], [7, 8, 0]]\n",
        "row_sum=[]\n",
        "for row in matrix:\n",
        "  r_sum=sum(row)\n",
        "  row_sum.append(r_sum)\n",
        "for i in range(len(row_sum)):\n",
        "  print(f\"Sum of row {i+1} is: {row_sum[i]} \")\n"
      ],
      "metadata": {
        "id": "2xsTZNXxnSXj",
        "colab": {
          "base_uri": "https://localhost:8080/"
        },
        "outputId": "6413ce20-9b5b-4ea6-8e0a-0693a57e17f0"
      },
      "execution_count": 38,
      "outputs": [
        {
          "output_type": "stream",
          "name": "stdout",
          "text": [
            "Sum of row 1 is: 35 \n",
            "Sum of row 2 is: 11 \n",
            "Sum of row 3 is: 35 \n",
            "Sum of row 4 is: 11 \n",
            "Sum of row 5 is: 15 \n"
          ]
        }
      ]
    },
    {
      "cell_type": "markdown",
      "source": [
        "**9) Program tofind sum of two matrices**"
      ],
      "metadata": {
        "id": "yJ2AGUd6Tc32"
      }
    },
    {
      "cell_type": "code",
      "source": [
        "matrix_1=[[10, 12, 13], [0, 5, 6]]\n",
        "matrix_2=[[10, 12, 13], [0, 5, 6]]\n",
        "result=[]\n",
        "if len(matrix_1)==len(matrix_2):\n",
        "  for i in range(len(matrix_1)):\n",
        "    if len(matrix_1[i])==len(matrix_2[i]):\n",
        "      row=[]\n",
        "      for j in range(len(matrix_1[i])):\n",
        "        row.append(matrix_1[i][j]+matrix_2[i][j])\n",
        "      result.append(row)\n",
        "    else:\n",
        "      print(\"column index is not same\")\n",
        "else:\n",
        "  print(\"row index is not same\")\n",
        "print(f\"sum of above matrices is: {result}\")\n"
      ],
      "metadata": {
        "id": "ontmpViWqkqP",
        "colab": {
          "base_uri": "https://localhost:8080/"
        },
        "outputId": "680a66be-3687-466c-e460-ddbdf268eb5e"
      },
      "execution_count": 40,
      "outputs": [
        {
          "output_type": "stream",
          "name": "stdout",
          "text": [
            "sum of above matrices is: [[20, 24, 26], [0, 10, 12]]\n"
          ]
        }
      ]
    },
    {
      "cell_type": "markdown",
      "source": [
        "**10) Program to multiply two matrices**"
      ],
      "metadata": {
        "id": "tZ3A7Oy2TrVO"
      }
    },
    {
      "cell_type": "code",
      "source": [
        "a=[[1, 2, 3], [2, 4, 5]]\n",
        "b=[[1, 2], [2, 3], [3, 4]]\n",
        "result=[]\n",
        "if len(a[0]) == len(b):\n",
        "  for i in range(len(a)):\n",
        "    row=[]\n",
        "    for j in range(len(b[0])):\n",
        "      ans=0\n",
        "      for k in range(len(b)):\n",
        "        ans += a[i][k] * b[k][j]\n",
        "      row.append(ans)\n",
        "    result.append(row)\n",
        "print(f\"The resultant matrix is: {result}\")\n"
      ],
      "metadata": {
        "id": "UAzjThEKuFt-",
        "colab": {
          "base_uri": "https://localhost:8080/"
        },
        "outputId": "7897657e-c4bc-4da2-d71c-387676b036e5"
      },
      "execution_count": 42,
      "outputs": [
        {
          "output_type": "stream",
          "name": "stdout",
          "text": [
            "The resultant matrix is: [[14, 20], [25, 36]]\n"
          ]
        }
      ]
    }
  ]
}