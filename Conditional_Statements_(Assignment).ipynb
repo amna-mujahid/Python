{
  "cells": [
    {
      "cell_type": "markdown",
      "metadata": {
        "id": "Ud4NxrNKM2fL"
      },
      "source": [
        "1) A company decided to give bonus of 5% to employee if his/her year of service is more than 5 years.\n",
        "Ask user for their salary and year of service and print the net bonus amount."
      ]
    },
    {
      "cell_type": "code",
      "execution_count": 1,
      "metadata": {
        "colab": {
          "base_uri": "https://localhost:8080/"
        },
        "id": "Uf-FaeOVM2f5",
        "outputId": "777507c2-e090-4561-9141-4a037b00c7e9"
      },
      "outputs": [
        {
          "output_type": "stream",
          "name": "stdout",
          "text": [
            "Enter your years of service:7\n",
            "Enter your salary:70000\n",
            "your net bonus is Rs 3500.0\n"
          ]
        }
      ],
      "source": [
        "ser=float(input(\"Enter your years of service:\"))\n",
        "if ser > 5:\n",
        "  sal=int(input(\"Enter your salary:\"))\n",
        "  bonus=0.05*sal\n",
        "  print(f'your net bonus is Rs {bonus}')\n",
        "else:\n",
        "  print(\"you are not eligible for bonus\")"
      ]
    },
    {
      "cell_type": "markdown",
      "metadata": {
        "id": "0BbKbiflM2f6"
      },
      "source": [
        "\n",
        "2) Write a program to check whether a person is eligible for voting or not. (accept age from user) if age is greater than 17 eligible otherwise not eligible"
      ]
    },
    {
      "cell_type": "code",
      "execution_count": 3,
      "metadata": {
        "colab": {
          "base_uri": "https://localhost:8080/"
        },
        "id": "utsFoxCeM2f7",
        "outputId": "8c6bdfe7-661e-4749-ceda-ca0db8c2fef4"
      },
      "outputs": [
        {
          "output_type": "stream",
          "name": "stdout",
          "text": [
            "Enter Your Age:65\n",
            "You are Eligible for voting\n"
          ]
        }
      ],
      "source": [
        "age=int(input(\"Enter Your Age:\"))\n",
        "if age>17:\n",
        "  print(\"You are Eligible for voting\")\n",
        "else:\n",
        "  print(\"You are not Eligible for voting\")"
      ]
    },
    {
      "cell_type": "markdown",
      "metadata": {
        "id": "iHhTlcF-M2f7"
      },
      "source": [
        "\n",
        "3) Write a program to check whether a number entered by user is even or odd."
      ]
    },
    {
      "cell_type": "code",
      "execution_count": 5,
      "metadata": {
        "colab": {
          "base_uri": "https://localhost:8080/"
        },
        "id": "ddwBgrIuM2f8",
        "outputId": "63399268-2e9f-4572-ae31-1e33075ae607"
      },
      "outputs": [
        {
          "output_type": "stream",
          "name": "stdout",
          "text": [
            "Enter a number:7\n",
            "It's an Odd Number\n"
          ]
        }
      ],
      "source": [
        "num=int(input(\"Enter a number:\"))\n",
        "if num%2==0:\n",
        "  print(\"It's an Even Number\")\n",
        "else:\n",
        "  print(\"It's an Odd Number\")"
      ]
    },
    {
      "cell_type": "markdown",
      "metadata": {
        "id": "dIg987b9M2f8"
      },
      "source": [
        "4) Write a program to check whether a number is divisible by 7 or not.\n",
        "Show Answer"
      ]
    },
    {
      "cell_type": "code",
      "execution_count": 8,
      "metadata": {
        "colab": {
          "base_uri": "https://localhost:8080/"
        },
        "id": "RuGjoLWqM2f8",
        "outputId": "d05c027c-0981-4ba5-ea66-020353cec109"
      },
      "outputs": [
        {
          "output_type": "stream",
          "name": "stdout",
          "text": [
            "Enter a number:80\n",
            "answer:11.43\n",
            "It's not divisible by 7\n"
          ]
        }
      ],
      "source": [
        "num=int(input(\"Enter a number:\"))\n",
        "ans=num/7\n",
        "print(f'answer:{round(ans,2)}')\n",
        "if num%7==0:\n",
        "  print(\"It's divisible by 7\")\n",
        "else:\n",
        "  print(\"It's not divisible by 7\")"
      ]
    },
    {
      "cell_type": "markdown",
      "metadata": {
        "id": "SBo4S2vPM2f9"
      },
      "source": [
        "5) Write a program to display\n",
        "\"Hello\" if a number entered by user is a multiple of five , otherwise print \"Bye\"."
      ]
    },
    {
      "cell_type": "code",
      "execution_count": 9,
      "metadata": {
        "colab": {
          "base_uri": "https://localhost:8080/"
        },
        "id": "e86d7hvWM2f-",
        "outputId": "cd76eaae-686e-448c-bfec-c902ef4b0b00"
      },
      "outputs": [
        {
          "output_type": "stream",
          "name": "stdout",
          "text": [
            "Enter a number:6\n",
            "Bye\n"
          ]
        }
      ],
      "source": [
        "num=int(input(\"Enter a number:\"))\n",
        "if num%5==0:\n",
        "  print(\"Hello\")\n",
        "else:\n",
        "  print(\"Bye\")"
      ]
    },
    {
      "cell_type": "markdown",
      "metadata": {
        "id": "Ka1IpwgQM2f-"
      },
      "source": [
        "7) Write a program to display the last digit of a number.\n"
      ]
    },
    {
      "cell_type": "code",
      "execution_count": 10,
      "metadata": {
        "colab": {
          "base_uri": "https://localhost:8080/"
        },
        "id": "jXb7clQDM2f_",
        "outputId": "28a8b0dd-2a77-40d6-d0eb-c179baab8254"
      },
      "outputs": [
        {
          "output_type": "stream",
          "name": "stdout",
          "text": [
            "Enter a number 786596470\n",
            "Last digit of a number is:0\n"
          ]
        }
      ],
      "source": [
        "num=str(input(\"Enter a number \"))\n",
        "dig=num[-1]\n",
        "print(f\"Last digit of a number is:{dig}\")"
      ]
    },
    {
      "cell_type": "markdown",
      "metadata": {
        "id": "Mg6HiFYxM2f_"
      },
      "source": [
        "9) Take values of length and breadth of a rectangle from user and print if it is square or rectangle."
      ]
    },
    {
      "cell_type": "code",
      "execution_count": 13,
      "metadata": {
        "colab": {
          "base_uri": "https://localhost:8080/"
        },
        "id": "J8gnR2YhM2gB",
        "outputId": "25bf87d1-ee37-416a-d328-c2a1b012ff16"
      },
      "outputs": [
        {
          "output_type": "stream",
          "name": "stdout",
          "text": [
            "Enter length:8\n",
            "Enter breadth:9\n",
            "It's a rectangle\n"
          ]
        }
      ],
      "source": [
        "length=float(input(\"Enter length:\"))\n",
        "breadth=float(input(\"Enter breadth:\"))\n",
        "if length==breadth:\n",
        "  print(\"It's a square\")\n",
        "else:\n",
        "  print(\"It's a rectangle\")"
      ]
    },
    {
      "cell_type": "markdown",
      "metadata": {
        "id": "oS8b_anBM2gC"
      },
      "source": [
        "10) Take two int values from user and print greatest among them."
      ]
    },
    {
      "cell_type": "code",
      "execution_count": 14,
      "metadata": {
        "colab": {
          "base_uri": "https://localhost:8080/"
        },
        "id": "cCVApIEzM2gE",
        "outputId": "d61d2a7a-553e-4406-c48f-ae3f39f4b199"
      },
      "outputs": [
        {
          "output_type": "stream",
          "name": "stdout",
          "text": [
            "Enter first number:89\n",
            "Enter second number:90\n",
            "Greatest number is 90\n"
          ]
        }
      ],
      "source": [
        "num1= int(input(\"Enter first number:\"))\n",
        "num2= int(input(\"Enter second number:\"))\n",
        "if num1 > num2:\n",
        "  print(f'Greatest number is {num1}')\n",
        "else:\n",
        "  print(f'Greatest number is {num2}')"
      ]
    },
    {
      "cell_type": "markdown",
      "metadata": {
        "id": "z-ReNUmcM2gE"
      },
      "source": [
        "11) A shop will give discount of 10% if the cost of purchased quantity is more than 1000.\n",
        "Ask user for quantity\n",
        "Suppose, one unit will cost 100.\n",
        "Judge and print total cost for user."
      ]
    },
    {
      "cell_type": "code",
      "execution_count": 16,
      "metadata": {
        "colab": {
          "base_uri": "https://localhost:8080/"
        },
        "id": "waEnYxXAM2gF",
        "outputId": "920e48ed-1657-425b-872f-89f478cca883"
      },
      "outputs": [
        {
          "output_type": "stream",
          "name": "stdout",
          "text": [
            "Enter number of units bought: 90\n",
            "Total Bill:9000\n",
            "Bill after Discount:8100.0\n"
          ]
        }
      ],
      "source": [
        "perunit=100\n",
        "unit=int(input(\"Enter number of units bought: \"))\n",
        "cost=perunit*unit\n",
        "if cost > 1000:\n",
        "  disc=0.1*cost\n",
        "  tcost=cost-disc\n",
        "  print(f\"Total Bill:{cost}\\nBill after Discount:{tcost}\")\n",
        "else:\n",
        "  print(f\"Total Bill:{cost}\")\n"
      ]
    },
    {
      "cell_type": "markdown",
      "metadata": {
        "id": "sO2UokfjM2gF"
      },
      "source": [
        "12) A school has following rules for grading system:\n",
        "\n",
        "a. Below 25 - F\n",
        "\n",
        "b. 25 to 45 - E\n",
        "\n",
        "c. 45 to 50 - D\n",
        "\n",
        "d. 50 to 60 - C\n",
        "\n",
        "e. 60 to 80 - B\n",
        "\n",
        "f. Above 80 - A\n",
        "\n",
        "Ask user to enter marks and print the corresponding grade."
      ]
    },
    {
      "cell_type": "code",
      "execution_count": 17,
      "metadata": {
        "colab": {
          "base_uri": "https://localhost:8080/"
        },
        "id": "EhcEzkBNM2gG",
        "outputId": "76c1f5f3-68ce-4943-9697-af3f13d5382c"
      },
      "outputs": [
        {
          "output_type": "stream",
          "name": "stdout",
          "text": [
            "Enter your marks: 78\n",
            "You got B Grade\n"
          ]
        }
      ],
      "source": [
        "marks=int(input(\"Enter your marks: \"))\n",
        "if marks >= 80:\n",
        "  print(\"You got A Grade\")\n",
        "elif marks>=60 and marks<80:\n",
        "  print(\"You got B Grade\")\n",
        "elif marks>=50 and marks<60:\n",
        "  print(\"You got C Grade\")\n",
        "elif marks>=45 and marks<50:\n",
        "  print(\"You got D Grade\")\n",
        "elif marks>=25 and marks<45:\n",
        "  print(\"You got E Grade\")\n",
        "elif marks<25:\n",
        "  print(\"You got F Grade\")"
      ]
    },
    {
      "cell_type": "markdown",
      "metadata": {
        "id": "sauOVB7WM2gG"
      },
      "source": [
        "14)A student will not be allowed to sit in exam if his/her attendence is less than 75%.\n",
        "\n",
        "Take following input from user\n",
        "\n",
        "Number of classes held\n",
        "\n",
        "Number of classes attended.\n",
        "\n",
        "And print\n",
        "\n",
        "percentage of class attended\n",
        "\n",
        "Is student is allowed to sit in exam or not.\n"
      ]
    },
    {
      "cell_type": "code",
      "execution_count": 19,
      "metadata": {
        "colab": {
          "base_uri": "https://localhost:8080/"
        },
        "id": "C9depgMkM2gG",
        "outputId": "bbbb4e95-062a-4c7d-e7ba-2ad5f7e01048"
      },
      "outputs": [
        {
          "output_type": "stream",
          "name": "stdout",
          "text": [
            "Enter total number of classes held:50\n",
            "Enter total number of classes attended:20\n",
            "Class attendance is: 40.0%\n",
            "you are not allowed to sit in exam\n"
          ]
        }
      ],
      "source": [
        "tclasses=int(input(\"Enter total number of classes held:\"))\n",
        "aclasses=int(input(\"Enter total number of classes attended:\"))\n",
        "attendance=aclasses/tclasses*100\n",
        "print(f\"Class attendance is: {attendance}%\")\n",
        "if attendance>=75:\n",
        "  print(\"you are allowed to sit in exam\")\n",
        "else:\n",
        "  print(\"you are not allowed to sit in exam\")"
      ]
    },
    {
      "cell_type": "markdown",
      "metadata": {
        "id": "bd0bPFd1M2gH"
      },
      "source": [
        "15) Modify the above question to allow student to sit if he/she has medical cause. Ask user if he/she has medical cause or not ( 'Y' or 'N' ) and print accordingly."
      ]
    },
    {
      "cell_type": "code",
      "execution_count": 21,
      "metadata": {
        "colab": {
          "base_uri": "https://localhost:8080/"
        },
        "id": "TTQVdh_RM2gH",
        "outputId": "da2beda6-70ba-4c34-8c64-a0c03f90db60"
      },
      "outputs": [
        {
          "output_type": "stream",
          "name": "stdout",
          "text": [
            "Enter total number of classes held:40\n",
            "Enter total number of classes attended:10\n",
            "Class attendance is: 25.0%\n",
            "was there any medical cause of your leaves? Y for yes/ N for no: Y\n",
            "you are allowed to sit in exam\n"
          ]
        }
      ],
      "source": [
        "tclasses=int(input(\"Enter total number of classes held:\"))\n",
        "aclasses=int(input(\"Enter total number of classes attended:\"))\n",
        "attendance=aclasses/tclasses*100\n",
        "print(f\"Class attendance is: {round(attendance,2)}%\")\n",
        "if attendance>=75:\n",
        "  print(\"you are allowed to sit in exam\")\n",
        "else:\n",
        "  med=input(\"was there any medical cause of your leaves? Y for yes/ N for no: \")\n",
        "  if med==\"Y\":\n",
        "    print(\"you are allowed to sit in exam\")\n",
        "  elif med=='N':\n",
        "    print(\"you are not allowed to sit in exam\")\n",
        "  else:\n",
        "    print(\"Wrong selection of alphabet\")"
      ]
    },
    {
      "cell_type": "markdown",
      "metadata": {
        "id": "XNBPQV82M2gH"
      },
      "source": [
        "16) Write a program to check if a year is leap year or not.\n",
        "\n",
        "If a year is divisible by 4 then it is leap year but if the year is century year like 2000, 1900, 2100 then it must be divisible by 400."
      ]
    },
    {
      "cell_type": "code",
      "execution_count": 22,
      "metadata": {
        "colab": {
          "base_uri": "https://localhost:8080/"
        },
        "id": "PxC7j_c8M2gI",
        "outputId": "dfcd18ee-52ff-431c-991a-d16dfe0712e1"
      },
      "outputs": [
        {
          "output_type": "stream",
          "name": "stdout",
          "text": [
            "Enter year: 1991\n",
            "It's not a leap year\n"
          ]
        }
      ],
      "source": [
        "year=int(input(\"Enter year: \"))\n",
        "if (year%4==0) and (year%100!=0):\n",
        "  print(\"It's a leap year\")\n",
        "elif (year%400==0):\n",
        "  print(\"It's a leap year\")\n",
        "else:\n",
        "  print(\"It's not a leap year\")"
      ]
    },
    {
      "cell_type": "markdown",
      "metadata": {
        "id": "TstDwPBrM2gI"
      },
      "source": [
        "17) Ask user to enter age, gender ( M or F ), marital status ( Y or N ) and then using following rules print their place of service.\n",
        "\n",
        "if employee is female, then she will work only in urban areas.\n",
        "\n",
        "if employee is a male and age is in between 20 to 40 then he may work in anywhere\n",
        "\n",
        "if employee is male and age is in between 40 t0 60 then he will work in urban areas only.\n",
        "\n",
        "And any other input of age should print \"ERROR\""
      ]
    },
    {
      "cell_type": "code",
      "execution_count": 27,
      "metadata": {
        "colab": {
          "base_uri": "https://localhost:8080/"
        },
        "id": "Kf930r_MM2gJ",
        "outputId": "184c70c6-ea78-49db-8d57-e13cbd555543"
      },
      "outputs": [
        {
          "output_type": "stream",
          "name": "stdout",
          "text": [
            "Enter your age: 59\n",
            "Enter your gender (M/F): M\n",
            "Are you married (Y/N)? N\n",
            "You will work in urban areas\n"
          ]
        }
      ],
      "source": [
        "age=int(input(\"Enter your age: \"))\n",
        "gen=input(\"Enter your gender (M/F): \")\n",
        "mar=input(\"Are you married (Y/N)? \")\n",
        "if gen==\"F\" and 20<=age<60:\n",
        "  print(\"You will work in urban areas\")\n",
        "elif gen==\"M\" and 40>age>=20:\n",
        "  print(\"You may work in anywhere\")\n",
        "elif gen==\"M\" and 60>age>=40:\n",
        "  print(\"You will work in urban areas\")\n",
        "else:\n",
        "  print(\"ERROR\")"
      ]
    },
    {
      "cell_type": "markdown",
      "metadata": {
        "id": "qJ4G_h7VM2gK"
      },
      "source": [
        "6) Write a program to calculate the electricity bill (accept number of unit from user) according to the following criteria :\n",
        "     Unit                                                     Price  \n",
        "uptp 100 units                                             no charge\n",
        "Next 200 units                                              Rs 5 per unit\n",
        "After 200 units                                             Rs 10 per unit\n",
        "(For example if input unit is 350 than total bill amount is Rs.3500\n",
        "(For example if input unit is 97 than total bill amount is Rs.0\n",
        "(For example if input unit is 150 than total bill amount is Rs.750"
      ]
    },
    {
      "cell_type": "code",
      "source": [
        "units=float(input(\"Enter number of units: \"))\n",
        "if units<=100:\n",
        "  print(\"Your Bill is Rs. 0\")\n",
        "elif 200>=units>100:\n",
        "  bill=units*5\n",
        "  print(f\"Your Bill is Rs. {bill}\")\n",
        "elif units>200:\n",
        "  bill=units*10\n",
        "  print(f\"Your Bill is Rs. {bill}\")"
      ],
      "metadata": {
        "colab": {
          "base_uri": "https://localhost:8080/"
        },
        "id": "-poC8Na6Ocuf",
        "outputId": "10aee2fc-f9a6-4bc9-ca1b-33303777b887"
      },
      "execution_count": 30,
      "outputs": [
        {
          "output_type": "stream",
          "name": "stdout",
          "text": [
            "Enter number of units: 250\n",
            "Your Bill is Rs. 2500.0\n"
          ]
        }
      ]
    },
    {
      "cell_type": "markdown",
      "metadata": {
        "id": "NJ509RZAM2gL"
      },
      "source": [
        "13) Take input of age of 3 people by user and determine oldest and youngest among them."
      ]
    },
    {
      "cell_type": "code",
      "execution_count": 34,
      "metadata": {
        "colab": {
          "base_uri": "https://localhost:8080/"
        },
        "id": "IdK7r2PyM2gL",
        "outputId": "8d54d5e9-838f-4bfc-86fe-5a901105fcb1"
      },
      "outputs": [
        {
          "output_type": "stream",
          "name": "stdout",
          "text": [
            "Enter age of first person: 5\n",
            "Enter age of second person: 4\n",
            "Enter age of third person: 9\n",
            "Person 3 is the oldest\n",
            "Person 2 is the youngest\n"
          ]
        }
      ],
      "source": [
        "age1=int(input(\"Enter age of first person: \"))\n",
        "age2=int(input(\"Enter age of second person: \"))\n",
        "age3=int(input(\"Enter age of third person: \"))\n",
        "if age1<age2>age3:\n",
        "  print(\"Person 2 is the oldest\")\n",
        "elif age2<age3>age1:\n",
        "  print(\"Person 3 is the oldest\")\n",
        "elif age3<age1>age2:\n",
        "  print(\"Person 1 is the oldest\")\n",
        "if age1>age2<age3:\n",
        "  print(\"Person 2 is the youngest\")\n",
        "elif age2>age3<age1:\n",
        "  print(\"Person 3 is the youngest\")\n",
        "elif age3>age1<age2:\n",
        "  print(\"Person 1 is the youngest\")"
      ]
    }
  ],
  "metadata": {
    "kernelspec": {
      "display_name": "Python 3 (ipykernel)",
      "language": "python",
      "name": "python3"
    },
    "language_info": {
      "codemirror_mode": {
        "name": "ipython",
        "version": 3
      },
      "file_extension": ".py",
      "mimetype": "text/x-python",
      "name": "python",
      "nbconvert_exporter": "python",
      "pygments_lexer": "ipython3",
      "version": "3.11.5"
    },
    "colab": {
      "provenance": []
    }
  },
  "nbformat": 4,
  "nbformat_minor": 0
}