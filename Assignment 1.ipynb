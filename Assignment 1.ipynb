{
  "nbformat": 4,
  "nbformat_minor": 0,
  "metadata": {
    "colab": {
      "provenance": []
    },
    "kernelspec": {
      "name": "python3",
      "display_name": "Python 3"
    },
    "language_info": {
      "name": "python"
    }
  },
  "cells": [
    {
      "cell_type": "code",
      "source": [
        "#TASK 01:\n",
        "#Print Your Name with your Father name and Date of birth using suitable escape sequence charactor\n",
        "\n",
        "print(\"Name:\\t\\\"Amna Mujahid\\\" \\nDOB :\\t\\\"15-Dec-1999\\\"\" )"
      ],
      "metadata": {
        "colab": {
          "base_uri": "https://localhost:8080/"
        },
        "id": "PCKyV6fwU3L-",
        "outputId": "09c65efb-07da-4d8c-978a-ef5783edeb79"
      },
      "execution_count": 23,
      "outputs": [
        {
          "output_type": "stream",
          "name": "stdout",
          "text": [
            "Name:\t\"Amna Mujahid\" \n",
            "DOB :\t\"15-Dec-1999\"\n"
          ]
        }
      ]
    },
    {
      "cell_type": "code",
      "execution_count": 4,
      "metadata": {
        "colab": {
          "base_uri": "https://localhost:8080/"
        },
        "id": "NYFJzNkoQyIa",
        "outputId": "eda6250a-a40e-412e-d328-433c8ed77846"
      },
      "outputs": [
        {
          "output_type": "stream",
          "name": "stdout",
          "text": [
            "My name is Amna Mujahid D/o Muhammad Mujahid Traiq. I was born on 15-Dec-1999. I have done my B.E in Electronic Engineering from NED University.\n"
          ]
        }
      ],
      "source": [
        "#TASK 02:\n",
        "#Write your small bio using variables and print it using print function\n",
        "\n",
        "name=\"Amna Mujahid\"\n",
        "f_name=\"Muhammad Mujahid Traiq\"\n",
        "DOB=\"15-Dec-1999\"\n",
        "deg=\"Electronic Engineering\"\n",
        "uni=\"NED University\"\n",
        "\n",
        "print(f\"My name is {name} D/o {f_name}. I was born on {DOB}. I have done my B.E in {deg} from {uni}.\")"
      ]
    },
    {
      "cell_type": "code",
      "source": [
        "#TASK 03:\n",
        "#Write a program in which use all the operators we can use in Python\n",
        "\n",
        "num1=10\n",
        "num2=2\n",
        "sum=num1+num2\n",
        "sub=num1-num2\n",
        "mul=num1*num2\n",
        "div=num1/num2\n",
        "mod=num1%num2\n",
        "exp=num1**num2\n",
        "fdiv=num1//num2\n",
        "print(f\"{num1}+{num2} = {sum}\\n{num1}-{num2} = {sub}\\n{num1}*{num2} = {mul}\\n{num1}/{num2} = {div}\\n{num1} mod {num2} = {mod}\\n{num1} exp {num2} = {exp}\\n{num1}//{num2} = {fdiv} \")"
      ],
      "metadata": {
        "colab": {
          "base_uri": "https://localhost:8080/"
        },
        "id": "M3YbklrkU1wg",
        "outputId": "b1ea2216-6823-4edb-dad2-8fa063ee4929"
      },
      "execution_count": 13,
      "outputs": [
        {
          "output_type": "stream",
          "name": "stdout",
          "text": [
            "10+2 = 12\n",
            "10-2 = 8\n",
            "10*2 = 20\n",
            "10/2 = 5.0\n",
            "10 mod 2 = 0\n",
            "10 exp 2 = 100\n",
            "10//2 = 5 \n"
          ]
        }
      ]
    },
    {
      "cell_type": "code",
      "source": [
        "#TASK 04:\n",
        "#Calculate percentage\n",
        "\n",
        "eng_marks=85\n",
        "isl_marks=85\n",
        "math_marks=91\n",
        "total_marks=300\n",
        "ob_marks=eng_marks+isl_marks+math_marks\n",
        "perc=ob_marks/total_marks*100\n",
        "print(f\"English Marks: {eng_marks}\\nIslamiat Marks: {isl_marks}\\nMath Marks: {math_marks}\\nPercentage: {perc}%\")"
      ],
      "metadata": {
        "colab": {
          "base_uri": "https://localhost:8080/"
        },
        "id": "7X9TGl9UXz1N",
        "outputId": "4f902d7c-2e6e-47a7-b071-298ad8cfedc5"
      },
      "execution_count": 19,
      "outputs": [
        {
          "output_type": "stream",
          "name": "stdout",
          "text": [
            "English Marks: 85\n",
            "Islamiat Marks: 85\n",
            "Math Marks: 91\n",
            "Percentage: 87.0%\n"
          ]
        }
      ]
    }
  ]
}